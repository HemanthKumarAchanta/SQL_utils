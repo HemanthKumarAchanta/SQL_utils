{
 "cells": [
  {
   "cell_type": "markdown",
   "id": "53bc70bb",
   "metadata": {},
   "source": [
    "Objective : Fetches all the CTE data individually and dumps as a csv file\n",
    "\n",
    "How to use : \n",
    "    \n",
    "    1. Give the Query in the full_query variable. \n",
    "    2. Remove any variables in the query\n",
    "    3. Give all the query variable values into the python variables with same name\n",
    "    4. Make the Final select statement as a CTE and leave it\n",
    "    5. Enter the CTEs names in order in a list called cte_list\n",
    "    6. Enter the CTEs for which you want the dumps in a list called cte_dump_list\n",
    "    7. Enter the dir_name \n",
    "    "
   ]
  },
  {
   "cell_type": "code",
   "execution_count": 1,
   "id": "42a9167f",
   "metadata": {},
   "outputs": [],
   "source": [
    "full_query = \"\"\"\n",
    "-- Open cases \n",
    "\n",
    "WITH \n",
    "\n",
    "-- Get all the cases raised in the last 6 weeks. Making sure to take the latest opportunity for the same year for the same partner.\n",
    "-- Taking only first case for a given opp in a given day \n",
    "\n",
    "cases AS (\n",
    "  SELECT c.id AS case_id  \n",
    "    , c.sf_created_at AS case_created_time\n",
    "    , cc.msisdn\n",
    "    , DATE_TRUNC('week', c.sf_created_at)::DATE AS case_week_start\n",
    "  FROM sf_cases c LEFT JOIN sf_case_cc_details cc \n",
    "    ON c.id = cc.case_cc_id\n",
    "  WHERE cc.issue_v2 = 'Insurance Purchase related' \n",
    "  AND c.sf_created_at >= (DATE_TRUNC('week', CURRENT_DATE)::DATE - 42)\n",
    "    AND c.sf_created_at < DATE_TRUNC('week', CURRENT_DATE)::DATE)\n",
    "    ,\n",
    "\n",
    "\n",
    "opportunities AS (\n",
    "  SELECT o.id AS opportunity_id\n",
    "    , o.createddate as opp_createddate\n",
    "    , o.sfid\n",
    "    , o.account__c\n",
    "    , asd.msisdn\n",
    "    , asd.geo_region_id\n",
    "  FROM salesforce.opportunity__c o LEFT JOIN public.sf_accounts a\n",
    "      ON o.account__c = a.salesforce_id \n",
    "    LEFT JOIN public.sf_account_supply_details asd\n",
    "      ON a.id = asd.account_supply_id  \n",
    "  WHERE o.recordtypeid = '0122x000000XxcOAAS'\n",
    "  AND asd.msisdn IN (SELECT DISTINCT msisdn FROM cases)\n",
    "\n",
    "  \n",
    " )\n",
    "\n",
    ", opps_cases AS (\n",
    "  SELECT \n",
    "  DISTINCT ON (o.opportunity_id, c.case_created_time :: DATE)\n",
    "      o.opportunity_id\n",
    "    , o.opp_createddate \n",
    "    , o.sfid\n",
    "    , o.account__c\n",
    "    , c.case_id\n",
    "    , c.case_created_time\n",
    "    , c.case_week_start\n",
    "    , o.geo_region_id\n",
    "  FROM cases c  INNER JOIN opportunities o \n",
    "    ON c.msisdn = o.msisdn\n",
    "    \n",
    "    WHERE (o.opp_createddate >= c.case_created_time - INTERVAL '120 days') AND ( o.opp_createddate <= c.case_created_time )\n",
    "    \n",
    "    ORDER BY -- For selecting only first case per day for each opportunity \n",
    "    o.opportunity_id, \n",
    "    c.case_created_time :: DATE, \n",
    "    c.case_created_time ASC \n",
    ")\n",
    "\n",
    ", tasks AS (\n",
    "  SELECT id AS task_id\n",
    "    , sf_created_at AS task_created_time\n",
    "    , parent_id\n",
    "    , disposition\n",
    "    , DATE_TRUNC('week', sf_created_at)::DATE AS task_week_start\n",
    "  FROM sf_tasks\n",
    "  -- All insurance related tasks\n",
    "  WHERE subject = 'Vehicle Insurance Disposition Task'\n",
    "  AND parent_id IN (SELECT DISTINCT sfid FROM opportunities)\n",
    "    -- AND created_at >= (DATE_TRUNC('week', CURRENT_DATE)::DATE - 42)\n",
    "    -- AND created_at < DATE_TRUNC('week', CURRENT_DATE)::DATE\n",
    "    \n",
    "    )\n",
    "\n",
    "\n",
    ", opps_cases_tasks AS (\n",
    "  SELECT oc.opportunity_id\n",
    "    , oc.case_id\n",
    "    , oc.case_created_time\n",
    "    , oc.case_week_start\n",
    "    , oc.opp_createddate\n",
    "    , oc.geo_region_id\n",
    "    --, oc.vehicle_type\n",
    "    , oc.account__c\n",
    "    --, oc.stage_name__c\n",
    "    -- , MIN(t.task_created_time) FILTER (WHERE ((t.disposition NOT IN ('RNR', 'Not Connected')) \n",
    "    --   AND ((t.task_week_start < oc.case_week_start) OR (oc.case_week_start IS NULL)))) AS first_connected_time\n",
    "    -- , MIN(t.task_created_time) FILTER (WHERE ((t.task_week_start < oc.case_week_start) OR (oc.case_week_start IS NULL))) AS first_attempted_time\n",
    "    , MIN(t.task_created_time) FILTER (WHERE ((t.disposition NOT IN ('RNR', 'Not Connected')) \n",
    "      AND (t.task_week_start >= oc.case_week_start) AND (t.task_created_time >= oc.case_created_time))) AS first_connected_time_after_interest\n",
    "    , MIN(t.task_created_time) FILTER (WHERE ((t.task_week_start >= oc.case_week_start) AND (t.task_created_time >= oc.case_created_time))) AS first_attempt_time_after_interest\n",
    "  FROM opps_cases oc LEFT JOIN tasks t \n",
    "    ON oc.sfid = t.parent_id\n",
    "  GROUP BY 1, 2, 3, 4, 5, 6, 7\n",
    ")\n",
    "\n",
    ", purchases AS (\n",
    "  SELECT account__c\n",
    "  , purchase_date__c\n",
    "  , id AS purchase_id\n",
    "  FROM salesforce.vehicle_insurance__c\n",
    "  WHERE ((DATE_TRUNC('YEAR', purchase_date__c)) = (DATE_TRUNC('YEAR', createddate)))\n",
    ")\n",
    "\n",
    ", combined_data AS (\n",
    "  SELECT DISTINCT ON (oct.account__c, DATE_TRUNC('year', oct.opp_createddate)) oct.* -- FOR EVERY PARNTER TAKE THE LATEST OPP\n",
    "    , p.purchase_date__c\n",
    "    , p.purchase_id\n",
    "    , DATE_TRUNC('week', first_connected_time_after_interest)::DATE AS first_connect_after_interest_week_start\n",
    "    , DATE_TRUNC('week', first_attempt_time_after_interest)::DATE AS first_attempt_after_interest_week_start\n",
    "    -- If purchased insurance with us last year then Renewal, else New\n",
    "    , CASE WHEN p.purchase_date__c IS NOT NULL THEN 'Renewal' ELSE 'New' END AS insurance_type\n",
    "  FROM opps_cases_tasks oct LEFT JOIN purchases p \n",
    "    ON ((oct.account__c = p.account__c) AND (DATE_TRUNC('YEAR', oct.opp_createddate) = (DATE_TRUNC('YEAR', p.purchase_date__c) + INTERVAL '1 YEAR')))\n",
    "  ORDER BY oct.account__c, DATE_TRUNC('year', oct.opp_createddate), oct.opp_createddate DESC\n",
    ")\n",
    "\n",
    ", geo_regions AS (\n",
    "  SELECT * \n",
    "  FROM public.dblink( \n",
    "    'host=oms-prod-psql-replica.porter.in port=5432 dbname=porter_order_production user=bhanu_mittal password=aZPu95Bwuv'\n",
    "    , 'SELECT id, name FROM geo_regions'\n",
    "  ) AS tb (\n",
    "    id INT \n",
    "    , name TEXT \n",
    "  )\n",
    ")\n",
    "\n",
    ", final_data AS (\n",
    "  SELECT cd.*\n",
    "    , gr.name AS geo_region_name\n",
    "  FROM combined_data cd LEFT JOIN geo_regions gr\n",
    "    ON cd.geo_region_id = gr.id\n",
    ")\n",
    "\n",
    ", inbound_tat AS (\n",
    "  SELECT \n",
    "    case_week_start, insurance_type -- MAKE IT CASE_CREATED_WEEK_START\n",
    "    -- Average of First Connect Inbound TAT  \n",
    "    , EXTRACT(EPOCH FROM AVG(first_connected_time_after_interest - case_created_time) FILTER (WHERE (case_created_time IS NOT NULL))) / 86400 AS inbound_tat\n",
    "  FROM final_data\n",
    "  GROUP BY 1,2\n",
    ")\n",
    "\n",
    ", no_task_inbound_cases_temp AS (\n",
    "\n",
    "  SELECT case_week_start\n",
    "  --, insurance_type\n",
    "  , COUNT(*) FILTER (WHERE first_attempt_time_after_interest IS NULL ) AS no_task_cases_count,\n",
    "  COUNT(*) as total_cases_count\n",
    "  FROM combined_data\n",
    "  GROUP BY 1)\n",
    "  \n",
    ", no_task_inbound_cases AS (\n",
    "\n",
    "  SELECT \n",
    "    case_week_start\n",
    "    --, insurance_type\n",
    "    , no_task_cases_count as open_cases_count\n",
    "    , no_task_cases_count :: float/ ( total_cases_count )  *100 as Percentage\n",
    "    \n",
    "     FROM no_task_inbound_cases_temp\n",
    "\n",
    ")\"\"\"\n",
    "\n",
    "\n",
    " "
   ]
  },
  {
   "cell_type": "markdown",
   "id": "be425842",
   "metadata": {},
   "source": [
    "# Imports"
   ]
  },
  {
   "cell_type": "code",
   "execution_count": 2,
   "id": "e23a32d8",
   "metadata": {},
   "outputs": [],
   "source": [
    "from tqdm import tqdm"
   ]
  },
  {
   "cell_type": "code",
   "execution_count": 3,
   "id": "4c318f6e",
   "metadata": {},
   "outputs": [],
   "source": [
    "import re"
   ]
  },
  {
   "cell_type": "code",
   "execution_count": 4,
   "id": "d5f4abe4",
   "metadata": {},
   "outputs": [],
   "source": [
    "import sys\n",
    "helper_path =\"/Users/porteruser/Documents/libraries/analytics-utils-master\"\n",
    "sys.path.append(helper_path)\n",
    "\n",
    "\n",
    "import pandas as pd\n",
    "import os\n",
    "import psycopg2 as pg2\n",
    "import time\n",
    "import warnings\n",
    "from datetime import datetime, timedelta\n",
    "import db_helper.utils as db_utils\n",
    "\n",
    "warnings.filterwarnings('ignore')"
   ]
  },
  {
   "cell_type": "markdown",
   "id": "e8c71aec",
   "metadata": {},
   "source": [
    "# Inputs"
   ]
  },
  {
   "cell_type": "code",
   "execution_count": 5,
   "id": "911b4823",
   "metadata": {},
   "outputs": [],
   "source": [
    "cases_from_date = pd.to_datetime('2022-01-03')\n",
    "cases_to_date = pd.to_datetime('2022-01-09')"
   ]
  },
  {
   "cell_type": "code",
   "execution_count": 6,
   "id": "9972e081",
   "metadata": {},
   "outputs": [],
   "source": [
    "inputs_dict = {\"{{cases_from_date}}\":cases_from_date,\"{{cases_to_date}}\":cases_to_date }"
   ]
  },
  {
   "cell_type": "code",
   "execution_count": 7,
   "id": "2ae787fb",
   "metadata": {},
   "outputs": [],
   "source": [
    "# dir_name = \"TAT First attempt - Time series\"\n",
    "\n",
    "dir_name = \"open_cases\""
   ]
  },
  {
   "cell_type": "code",
   "execution_count": 8,
   "id": "a9c6c30a",
   "metadata": {},
   "outputs": [],
   "source": [
    "# def create_inputs_dict(inputs_list):\n",
    "    "
   ]
  },
  {
   "cell_type": "code",
   "execution_count": 9,
   "id": "ef2ccda9",
   "metadata": {},
   "outputs": [],
   "source": [
    "inputs_list = list(set(re.findall(\"{.*}\",full_query)))"
   ]
  },
  {
   "cell_type": "code",
   "execution_count": 10,
   "id": "d9529627",
   "metadata": {},
   "outputs": [],
   "source": [
    "def clean_full_query(full_query):\n",
    "    for each_input in inputs_list:\n",
    "        new_value = f\"'{inputs_dict[each_input]}' :: DATE \"\n",
    "        full_query = full_query.replace(each_input,new_value)\n",
    "        full_query = f\"{full_query}\"\n",
    "    return full_query"
   ]
  },
  {
   "cell_type": "code",
   "execution_count": 11,
   "id": "45d51926",
   "metadata": {},
   "outputs": [],
   "source": [
    "# full_query = clean_full_query(full_query)"
   ]
  },
  {
   "cell_type": "code",
   "execution_count": 12,
   "id": "f0a3fdca",
   "metadata": {},
   "outputs": [],
   "source": [
    "#Enter in Order\n",
    "cte_list = ['cases','opportunities','opps_cases','tasks','opps_cases_tasks','purchases','combined_data','geo_regions','final_data','inbound_tat','no_task_inbound_cases_temp','no_task_inbound_cases']\n",
    "\n",
    "#Inbound TAT First Attempt\n",
    "# cte_list = ['cases','opportunities','opps_cases','tasks','opps_cases_tasks','combined_data','inbound','final_data','output']\n",
    "\n",
    "#TAT First attempt - Time series\n",
    "# cte_list = [ 'cases', 'opportunities', 'opps_cases', 'tasks', 'opps_cases_tasks', 'purchases', 'active_partners', 'combined_data', 'geo_regions', 'final_data', 'inbound_tat']\n",
    "\n",
    "\n"
   ]
  },
  {
   "cell_type": "code",
   "execution_count": 13,
   "id": "866378ca",
   "metadata": {},
   "outputs": [],
   "source": [
    "cte_dump_list  = ['cases','opportunities','opps_cases','opps_cases_tasks','combined_data','final_data'\n",
    "                  ,'no_task_inbound_cases_temp','no_task_inbound_cases']\n",
    "\n"
   ]
  },
  {
   "cell_type": "code",
   "execution_count": 14,
   "id": "d1856009",
   "metadata": {},
   "outputs": [
    {
     "data": {
      "text/plain": [
       "[True, True, True, True, True, True, True, True, True, True, True, True]"
      ]
     },
     "execution_count": 14,
     "metadata": {},
     "output_type": "execute_result"
    }
   ],
   "source": [
    "[f\"{cte} AS\" in full_query  for cte in cte_list ]"
   ]
  },
  {
   "cell_type": "code",
   "execution_count": 15,
   "id": "2c1e67fd",
   "metadata": {},
   "outputs": [],
   "source": [
    "if sum([f\"{cte} AS\" in full_query  for cte in cte_list ]) != len(cte_list):\n",
    "    print(\"Proper CTEs\",end = ': ')\n",
    "    print(sum([f\"{cte} AS\" in full_query  for cte in cte_list ]))\n",
    "    \n",
    "    print(\"Total CTEs\", end = \": \")\n",
    "    print(len(cte_list))\n",
    "    \n",
    "    print(1/0)"
   ]
  },
  {
   "cell_type": "code",
   "execution_count": 16,
   "id": "d13f8a46",
   "metadata": {},
   "outputs": [],
   "source": [
    "cte_location_dict= {}\n",
    "for cte in cte_list:\n",
    "    cte_location = re.search(f\"{cte} AS\", full_query)\n",
    "    cte_location_dict.update({cte:cte_location})"
   ]
  },
  {
   "cell_type": "code",
   "execution_count": 17,
   "id": "6f62685b",
   "metadata": {},
   "outputs": [],
   "source": [
    "cte_query_list = []\n",
    "cte_query_dict = {}"
   ]
  },
  {
   "cell_type": "code",
   "execution_count": 18,
   "id": "ee9aa82a",
   "metadata": {},
   "outputs": [],
   "source": [
    "for indx,cte in enumerate(cte_list):\n",
    "    if indx != len(cte_list)-1:\n",
    "        next_cte_start = cte_location_dict[cte_list[indx + 1]].start()\n",
    "    else :\n",
    "        next_cte_start = len(full_query)\n",
    "    cur_cte_start = cte_location_dict[cte_list[indx]].start()\n",
    "    \n",
    "    current_cte_query = full_query[cur_cte_start:next_cte_start]\n",
    "    current_cte_query = current_cte_query.strip().strip(',') #To remove trailing spaces and then , used to add new CTE\n",
    "    \n",
    "    cte_query_list.append(current_cte_query)\n",
    "    cte_query_dict.update({cte:current_cte_query})"
   ]
  },
  {
   "cell_type": "markdown",
   "id": "77fbeba3",
   "metadata": {},
   "source": [
    "# Making individual CTE Queries"
   ]
  },
  {
   "cell_type": "code",
   "execution_count": 19,
   "id": "dfa65cb0",
   "metadata": {},
   "outputs": [],
   "source": [
    "def make_full_cte_query(cumulative_cte,cte_name):\n",
    "    return \"WITH \" + cumulative_cte + f\"\\n\\n SELECT * FROM {cte_name}\""
   ]
  },
  {
   "cell_type": "code",
   "execution_count": 20,
   "id": "d21deb69",
   "metadata": {},
   "outputs": [],
   "source": [
    "def get_cumulative_cte(indx):\n",
    "    cumulative_cte = ''\n",
    "    for each_cte in cte_list[:indx+1]:\n",
    "        cumulative_cte = cumulative_cte + '\\n, '+ cte_query_dict[each_cte]\n",
    "    return cumulative_cte.strip().strip(',')"
   ]
  },
  {
   "cell_type": "code",
   "execution_count": 21,
   "id": "108d2c3e",
   "metadata": {},
   "outputs": [],
   "source": [
    "full_cte_query_list = []\n",
    "full_cte_query_dict = {}\n",
    "\n",
    "for indx, cte_name in enumerate(cte_list)  : \n",
    "    cumulative_cte = get_cumulative_cte(indx)\n",
    "    result = make_full_cte_query(cumulative_cte ,cte_name )\n",
    "    full_cte_query_list.append(result)\n",
    "    full_cte_query_dict.update({cte_name:result})"
   ]
  },
  {
   "cell_type": "markdown",
   "id": "68f07c34",
   "metadata": {},
   "source": [
    "# Fetching individual CTE Queries"
   ]
  },
  {
   "cell_type": "code",
   "execution_count": 22,
   "id": "80c37475",
   "metadata": {},
   "outputs": [],
   "source": [
    "fetched_cte_data = {}"
   ]
  },
  {
   "cell_type": "code",
   "execution_count": 23,
   "id": "5ce4aae3",
   "metadata": {},
   "outputs": [],
   "source": [
    "count = 0\n",
    "file_name = ''\n",
    "def make_dir(dir_name):\n",
    "    global count\n",
    "    global file_name\n",
    "    try:\n",
    "        os.mkdir(dir_name)\n",
    "        file_name = dir_name\n",
    "    except: #CHANGE THIS TO IF ALREADY EXISTS\n",
    "        count = count + 1\n",
    "        dir_name = dir_name + \"_\"+ str(count)\n",
    "        make_dir(dir_name)"
   ]
  },
  {
   "cell_type": "code",
   "execution_count": null,
   "id": "09cb075d",
   "metadata": {},
   "outputs": [
    {
     "name": "stdout",
     "output_type": "stream",
     "text": [
      "cases\n",
      "2022-01-21 22:32:43.373092\n",
      "Query run time in seconds : 1.6406538486480713\n",
      "cases dumped at open_cases_1_2/cases.csv\n",
      "\n",
      "opportunities\n",
      "2022-01-21 22:32:45.066275\n",
      "Query run time in seconds : 379.4163599014282\n",
      "opportunities dumped at open_cases_1_2/opportunities.csv\n",
      "\n",
      "opps_cases\n",
      "2022-01-21 22:39:04.525823\n"
     ]
    }
   ],
   "source": [
    "make_dir(dir_name)\n",
    "\n",
    "for cte in cte_dump_list:\n",
    "    print(cte)\n",
    "    print(pd.to_datetime(datetime.now()))\n",
    "    data = db_utils.fetch_data(full_cte_query_dict[cte], connection = 'sfms')\n",
    "    dump_path = os.path.join(file_name,cte) + \".csv\"\n",
    "    data.to_csv(dump_path,index = False)\n",
    "    print(f\"{cte} dumped at {dump_path}\",end = \"\\n\\n\")\n",
    "    fetched_cte_data.update({cte:data})\n",
    "    \n",
    "print(\"DONE\")"
   ]
  },
  {
   "cell_type": "code",
   "execution_count": null,
   "id": "dde5e192",
   "metadata": {},
   "outputs": [],
   "source": []
  }
 ],
 "metadata": {
  "kernelspec": {
   "display_name": "dashboard",
   "language": "python",
   "name": "dashboard"
  },
  "language_info": {
   "codemirror_mode": {
    "name": "ipython",
    "version": 3
   },
   "file_extension": ".py",
   "mimetype": "text/x-python",
   "name": "python",
   "nbconvert_exporter": "python",
   "pygments_lexer": "ipython3",
   "version": "3.9.7"
  }
 },
 "nbformat": 4,
 "nbformat_minor": 5
}
