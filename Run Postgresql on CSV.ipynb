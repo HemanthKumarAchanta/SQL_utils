{
 "cells": [
  {
   "cell_type": "markdown",
   "id": "a8a36123",
   "metadata": {},
   "source": [
    "Objective : Dumps the data into data_dumps database with given table name\n",
    "    \n",
    "How can it be useful : We can run queries on a interemediate CTE"
   ]
  },
  {
   "cell_type": "markdown",
   "id": "ff1bb239",
   "metadata": {},
   "source": [
    "How to use:\n",
    "    \n",
    "    1. Give the csv_file_path\n",
    "    2. Give the columns of dates in dates_col_list\n",
    "    3. Give the table name\n",
    "    3. Run all cells"
   ]
  },
  {
   "cell_type": "markdown",
   "id": "b5b85c05",
   "metadata": {},
   "source": [
    "## Inputs"
   ]
  },
  {
   "cell_type": "code",
   "execution_count": 1,
   "id": "058fff03",
   "metadata": {},
   "outputs": [],
   "source": [
    "csv_file_path = \"data/TAT_table_opps_cases_tasksCTE_debugged.csv\"\n",
    "table_name = 'TAT_table_opps_cases_tasks_CTE_debugged'\n",
    "dates_col_list  = [\"case_created_time\",'opp_createddate'\n",
    "                                                          ,'first_connected_time_after_interest'\n",
    "                                                          ,'first_attempt_time_after_interest']"
   ]
  },
  {
   "cell_type": "markdown",
   "id": "e34a172d",
   "metadata": {},
   "source": [
    "## Imports"
   ]
  },
  {
   "cell_type": "code",
   "execution_count": 2,
   "id": "73a7194e",
   "metadata": {},
   "outputs": [],
   "source": [
    "import psycopg2 as pg2\n",
    "import pandas as pd\n",
    "import numpy as np\n",
    "import os\n",
    "import sys"
   ]
  },
  {
   "cell_type": "code",
   "execution_count": 3,
   "id": "114f189a",
   "metadata": {},
   "outputs": [],
   "source": [
    "db_credentials = {\"host\":\"localhost\",\n",
    "               \"database\":\"data_dumps\",\n",
    "               'user':\"postgres\",\n",
    "               \"password\":\"123456\"}"
   ]
  },
  {
   "cell_type": "code",
   "execution_count": 4,
   "id": "cfb7e34d",
   "metadata": {},
   "outputs": [],
   "source": [
    "df = pd.read_csv(csv_file_path,\n",
    "                 parse_dates = dates_col_list)"
   ]
  },
  {
   "cell_type": "code",
   "execution_count": 5,
   "id": "061a5ae6",
   "metadata": {},
   "outputs": [],
   "source": [
    "col_type_mapper = {\"int64\": \"INT\",\"datetime64[ns]\": \"date\", \"object\" : \"CHAR(100)\", 'float64' : 'float'  }\n",
    "def create_table_query_from_csv(df,table_name):\n",
    "    \n",
    "    global col_type_mapper\n",
    "    \n",
    "    header_dtype = df.dtypes.to_frame()\n",
    "    \n",
    "    create_query_inner = \"\"\n",
    "    for i in range(len(header_dtype)):\n",
    "        col_type = str(header_dtype.iloc[i][0])\n",
    "        col_name = header_dtype.index[i]\n",
    "        create_query_inner = create_query_inner + f\"{col_name} {col_type_mapper[col_type]}\" \n",
    "        if i!= len(header_dtype) -1 :\n",
    "            create_query_inner = create_query_inner + \", \\n\"\n",
    "\n",
    "\n",
    "    create_table_query = f\"\"\"\n",
    "\n",
    "    CREATE TABLE {table_name} ( {create_query_inner})\n",
    "\n",
    "    \"\"\"\n",
    "    return create_table_query\n",
    "    "
   ]
  },
  {
   "cell_type": "code",
   "execution_count": 6,
   "id": "aad35691",
   "metadata": {},
   "outputs": [],
   "source": [
    "def create_table_from_csv(csv_file_path,dates_col_list,table_name):\n",
    "    \n",
    "    df = pd.read_csv(csv_file_path, parse_dates = dates_col_list)\n",
    "    \n",
    "    global db_credentials\n",
    "    conn = pg2.connect(**db_credentials)\n",
    "    cursor = conn.cursor()\n",
    "    \n",
    "    create_table_query = create_table_query_from_csv(df,table_name)\n",
    "    cursor.execute(create_table_query)\n",
    "    print(f\"SUCESSFULLY CREATED TABLE {table_name}\")\n",
    "    \n",
    "    csv_abs_file_path = os.path.join(os.getcwd(),csv_file_path)\n",
    "\n",
    "    with open(csv_file_path,  'rb') as csv_reader:\n",
    "        next(csv_reader)\n",
    "        cursor.copy_expert(f\"\"\"COPY {table_name} FROM STDIN WITH (FORMAT CSV)\"\"\", csv_reader)\n",
    "\n",
    "\n",
    "    print(f\"SUCESSFULLY COPIED VALUES INTO {table_name}\")\n",
    "\n",
    "    conn.commit()\n",
    "    conn.close()\n"
   ]
  },
  {
   "cell_type": "code",
   "execution_count": 7,
   "id": "86081b03",
   "metadata": {},
   "outputs": [
    {
     "name": "stdout",
     "output_type": "stream",
     "text": [
      "SUCESSFULLY CREATED TABLE TAT_table_opps_cases_tasks_CTE_debugged\n",
      "SUCESSFULLY COPIED VALUES INTO TAT_table_opps_cases_tasks_CTE_debugged\n"
     ]
    }
   ],
   "source": [
    "create_table_from_csv(csv_file_path,dates_col_list,table_name)"
   ]
  },
  {
   "cell_type": "code",
   "execution_count": null,
   "id": "4e2dc9ee",
   "metadata": {},
   "outputs": [],
   "source": []
  }
 ],
 "metadata": {
  "kernelspec": {
   "display_name": "dashboard",
   "language": "python",
   "name": "dashboard"
  },
  "language_info": {
   "codemirror_mode": {
    "name": "ipython",
    "version": 3
   },
   "file_extension": ".py",
   "mimetype": "text/x-python",
   "name": "python",
   "nbconvert_exporter": "python",
   "pygments_lexer": "ipython3",
   "version": "3.9.7"
  }
 },
 "nbformat": 4,
 "nbformat_minor": 5
}
